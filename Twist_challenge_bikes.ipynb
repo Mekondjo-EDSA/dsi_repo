{
  "nbformat": 4,
  "nbformat_minor": 0,
  "metadata": {
    "colab": {
      "name": "Twist_challenge_bikes.ipynb",
      "provenance": [],
      "authorship_tag": "ABX9TyPmVrEO12wGs5z9Z1bzSDPS",
      "include_colab_link": true
    },
    "kernelspec": {
      "name": "python3",
      "display_name": "Python 3"
    },
    "language_info": {
      "name": "python"
    }
  },
  "cells": [
    {
      "cell_type": "markdown",
      "metadata": {
        "id": "view-in-github",
        "colab_type": "text"
      },
      "source": [
        "<a href=\"https://colab.research.google.com/github/Mekondjo-EDSA/dsi_repo/blob/master/Twist_challenge_bikes.ipynb\" target=\"_parent\"><img src=\"https://colab.research.google.com/assets/colab-badge.svg\" alt=\"Open In Colab\"/></a>"
      ]
    },
    {
      "cell_type": "markdown",
      "source": [
        "## OVERVIEW \n",
        "This notebook shows how to use BigQuery to train a model using SQL"
      ],
      "metadata": {
        "id": "Vl_0z1Sc_jLN"
      }
    },
    {
      "cell_type": "markdown",
      "source": [
        "## SETUP\n"
      ],
      "metadata": {
        "id": "-EYiNubbAn4U"
      }
    },
    {
      "cell_type": "markdown",
      "metadata": {
        "id": "4YsfgDMZW5g6"
      },
      "source": [
        "Set up your GCP project\n",
        "\n",
        "**The following steps are required, regardless of your notebook environment.**\n",
        "\n",
        "1. [Select or create a GCP project.](https://console.cloud.google.com/cloud-resource-manager)\n",
        "2. [Enable the BigQuery Storage API](https://cloud.google.com/bigquery/docs/reference/storage/#enabling_the_api)\n",
        "3. Enter your project ID in the cell below. Then run the  cell to make sure the\n",
        "Cloud SDK uses the right project for all the commands in this notebook.\n"
      ]
    },
    {
      "cell_type": "markdown",
      "metadata": {
        "id": "z3HZwP7iBoST"
      },
      "source": [
        "import required modules"
      ]
    },
    {
      "cell_type": "code",
      "source": [
        "\n",
        "import pandas as pd \n",
        "from sklearn.model_selection import train_test_split\n",
        "from sklearn.ensemble import RandomForestRegressor\n",
        "from matplotlib import pyplot as plt\n",
        "from google.cloud import bigquery"
      ],
      "metadata": {
        "id": "rxBLT85wVKt-"
      },
      "execution_count": null,
      "outputs": []
    },
    {
      "cell_type": "markdown",
      "metadata": {
        "id": "upgCc3gXybsA"
      },
      "source": [
        "Install required Packages, and restart runtime"
      ]
    },
    {
      "cell_type": "code",
      "execution_count": null,
      "metadata": {
        "id": "pv61N02NdgOG"
      },
      "outputs": [],
      "source": [
        "!pip install pip --upgrade 'google-cloud-bigquery[bqstorage,pandas]'\n"
      ]
    },
    {
      "cell_type": "code",
      "source": [
        "%load_ext google.cloud.bigquery"
      ],
      "metadata": {
        "id": "nPXjFalhlZ4l"
      },
      "execution_count": null,
      "outputs": []
    },
    {
      "cell_type": "code",
      "execution_count": null,
      "metadata": {
        "id": "LMNA-vBHPyHz"
      },
      "outputs": [],
      "source": [
        "%load_ext google.colab.data_table"
      ]
    },
    {
      "cell_type": "markdown",
      "source": [
        "Authenticate "
      ],
      "metadata": {
        "id": "InjTGwDTB40B"
      }
    },
    {
      "cell_type": "code",
      "execution_count": null,
      "metadata": {
        "id": "SeTJb51SKs_W",
        "colab": {
          "base_uri": "https://localhost:8080/"
        },
        "outputId": "1eaac817-d532-45f4-b983-e95b79176f20"
      },
      "outputs": [
        {
          "output_type": "stream",
          "name": "stdout",
          "text": [
            "Authenticated\n"
          ]
        }
      ],
      "source": [
        "from google.colab import auth\n",
        "auth.authenticate_user()\n",
        "print('Authenticated')"
      ]
    },
    {
      "cell_type": "markdown",
      "source": [
        "Set project ID and list public datasets available on BigQuery"
      ],
      "metadata": {
        "id": "r9FE-8sDCNTN"
      }
    },
    {
      "cell_type": "code",
      "source": [
        "#variables\n",
        "project_id = 'bigquery-public-data'\n",
        "client = bigquery.Client(project=project_id)\n",
        "for dataset in client.list_datasets():\n",
        "  print(dataset.dataset_id)"
      ],
      "metadata": {
        "id": "6kAkFABzxbRX"
      },
      "execution_count": null,
      "outputs": []
    },
    {
      "cell_type": "markdown",
      "source": [
        "Run some queries to get a feel for the data and how to structure the code"
      ],
      "metadata": {
        "id": "4wuNdvjACv-W"
      }
    },
    {
      "cell_type": "code",
      "source": [
        "%%bigquery --project twist-project-343915\n",
        "\n",
        "SELECT\n",
        "start_station_id, start_station_name, round(AVG(duration),2)duration\n",
        "FROM `bigquery-public-data.london_bicycles.cycle_hire`\n",
        "group by 1,2"
      ],
      "metadata": {
        "id": "5Xbzqdg-SQna"
      },
      "execution_count": null,
      "outputs": []
    },
    {
      "cell_type": "code",
      "source": [
        "%%bigquery --project twist-project-343915\n",
        "\n",
        "SELECT\n",
        "EXTRACT(dayofweek from start_date)dayofweek, round(AVG(duration),2)duration\n",
        "FROM `bigquery-public-data.london_bicycles.cycle_hire`\n",
        "group by 1"
      ],
      "metadata": {
        "id": "Wjs4tn3dXvYx"
      },
      "execution_count": null,
      "outputs": []
    },
    {
      "cell_type": "code",
      "source": [
        "%%bigquery --project twist-project-343915\n",
        "\n",
        "SELECT\n",
        "EXTRACT(hour from start_date)hourofday, round(AVG(duration),2)duration\n",
        "FROM `bigquery-public-data.london_bicycles.cycle_hire`\n",
        "group by 1"
      ],
      "metadata": {
        "id": "0sgf23JoXvVr"
      },
      "execution_count": null,
      "outputs": []
    },
    {
      "cell_type": "code",
      "source": [
        "%%bigquery --project twist-project-343915\n",
        "\n",
        "SELECT\n",
        "bikes_count, AVG(duration) as duration\n",
        "FROM \n",
        "  `bigquery-public-data`.london_bicycles.cycle_hire \n",
        "JOIN \n",
        "  `bigquery-public-data`.london_bicycles.cycle_stations\n",
        "ON \n",
        "  cycle_hire.start_station_name = cycle_stations.name\n",
        "group by 1"
      ],
      "metadata": {
        "id": "RtO2k4EFXvS8"
      },
      "execution_count": null,
      "outputs": []
    },
    {
      "cell_type": "markdown",
      "source": [
        "The following section of code should be run in your Bigquery project in order to create the dataset and model."
      ],
      "metadata": {
        "id": "HHWeFpo-g_VC"
      }
    },
    {
      "cell_type": "code",
      "source": [
        "#create dataset \n",
        "%%bigquery --project twist-project-343915\n",
        "\n",
        "SELECT\n",
        "duration, \n",
        "start_station_name,\n",
        "CAST(EXTRACT(dayofweek from start_date) as string)dayofweek,\n",
        "CAST(EXTRACT(hour from start_date)as string)hourofday\n",
        "FROM `bigquery-public-data.london_bicycles.cycle_hire`"
      ],
      "metadata": {
        "id": "Q1VGeie2XvQY"
      },
      "execution_count": null,
      "outputs": []
    },
    {
      "cell_type": "code",
      "source": [
        "#create and train model\n",
        "%%bigquery --project twist-project-343915\n",
        "\n",
        "CREATE OR REPLACE MODEL\n",
        "bike_model.model\n",
        "OPTIONS(input_label_cols = ['duration'], model_type = 'linear_reg') AS \n",
        "SELECT\n",
        "duration, \n",
        "start_station_name,\n",
        "CAST(EXTRACT(dayofweek from start_date) as string)dayofweek,\n",
        "CAST(EXTRACT(hour from start_date)as string)hourofday\n",
        "FROM `bigquery-public-data.london_bicycles.cycle_hire`"
      ],
      "metadata": {
        "id": "0RdlYiFfXvL-"
      },
      "execution_count": null,
      "outputs": []
    },
    {
      "cell_type": "code",
      "source": [
        "#attempts to improve model performance \n",
        "%%bigquery --project twist-project-343915\n",
        "\n",
        "CREATE OR REPLACE MODEL\n",
        "bike_model.model_bucket\n",
        "OPTIONS(input_label_cols = ['duration'], model_type = 'linear_reg') AS \n",
        "SELECT\n",
        "duration, \n",
        "start_station_name,\n",
        "(EXTRACT(dayofweek from start_date) BETWEEN 2 AND 6, 'weekday', 'weekend') dayofweek,\n",
        "ML.BUCKETIZE(EXTRACT(hour from start_date),[5,10,17]) hourofday\n",
        "FROM `bigquery-public-data.london_bicycles.cycle_hire`"
      ],
      "metadata": {
        "id": "7kUyzP3xwOrq"
      },
      "execution_count": null,
      "outputs": []
    },
    {
      "cell_type": "markdown",
      "source": [
        "## Evaluate\n",
        "Evaluation of the model can be performed in BigQuery or in Colab"
      ],
      "metadata": {
        "id": "77SNezlWDZnh"
      }
    },
    {
      "cell_type": "code",
      "source": [
        "#Evaluate model\n",
        "%%bigquery --project twist-project-343915\n",
        "\n",
        "SELECT * FROM ML.EVALUATE (MODEL `bike_model.model`)"
      ],
      "metadata": {
        "id": "97-Vxv3qXvDu",
        "colab": {
          "base_uri": "https://localhost:8080/",
          "height": 114
        },
        "outputId": "bfaf6983-ea74-4329-ed68-f159149d57b8"
      },
      "execution_count": 25,
      "outputs": [
        {
          "output_type": "execute_result",
          "data": {
            "text/plain": [
              "   mean_absolute_error  mean_squared_error  mean_squared_log_error  \\\n",
              "0          1025.364041        1.862628e+08                0.862452   \n",
              "\n",
              "   median_absolute_error  r2_score  explained_variance  \n",
              "0             542.246965  0.003625            0.003646  "
            ],
            "text/html": [
              "\n",
              "  <div id=\"df-11e30ee3-7162-41c4-9d2a-fce5d302b55b\">\n",
              "    <div class=\"colab-df-container\">\n",
              "      <div>\n",
              "<style scoped>\n",
              "    .dataframe tbody tr th:only-of-type {\n",
              "        vertical-align: middle;\n",
              "    }\n",
              "\n",
              "    .dataframe tbody tr th {\n",
              "        vertical-align: top;\n",
              "    }\n",
              "\n",
              "    .dataframe thead th {\n",
              "        text-align: right;\n",
              "    }\n",
              "</style>\n",
              "<table border=\"1\" class=\"dataframe\">\n",
              "  <thead>\n",
              "    <tr style=\"text-align: right;\">\n",
              "      <th></th>\n",
              "      <th>mean_absolute_error</th>\n",
              "      <th>mean_squared_error</th>\n",
              "      <th>mean_squared_log_error</th>\n",
              "      <th>median_absolute_error</th>\n",
              "      <th>r2_score</th>\n",
              "      <th>explained_variance</th>\n",
              "    </tr>\n",
              "  </thead>\n",
              "  <tbody>\n",
              "    <tr>\n",
              "      <th>0</th>\n",
              "      <td>1025.364041</td>\n",
              "      <td>1.862628e+08</td>\n",
              "      <td>0.862452</td>\n",
              "      <td>542.246965</td>\n",
              "      <td>0.003625</td>\n",
              "      <td>0.003646</td>\n",
              "    </tr>\n",
              "  </tbody>\n",
              "</table>\n",
              "</div>\n",
              "      <button class=\"colab-df-convert\" onclick=\"convertToInteractive('df-11e30ee3-7162-41c4-9d2a-fce5d302b55b')\"\n",
              "              title=\"Convert this dataframe to an interactive table.\"\n",
              "              style=\"display:none;\">\n",
              "        \n",
              "  <svg xmlns=\"http://www.w3.org/2000/svg\" height=\"24px\"viewBox=\"0 0 24 24\"\n",
              "       width=\"24px\">\n",
              "    <path d=\"M0 0h24v24H0V0z\" fill=\"none\"/>\n",
              "    <path d=\"M18.56 5.44l.94 2.06.94-2.06 2.06-.94-2.06-.94-.94-2.06-.94 2.06-2.06.94zm-11 1L8.5 8.5l.94-2.06 2.06-.94-2.06-.94L8.5 2.5l-.94 2.06-2.06.94zm10 10l.94 2.06.94-2.06 2.06-.94-2.06-.94-.94-2.06-.94 2.06-2.06.94z\"/><path d=\"M17.41 7.96l-1.37-1.37c-.4-.4-.92-.59-1.43-.59-.52 0-1.04.2-1.43.59L10.3 9.45l-7.72 7.72c-.78.78-.78 2.05 0 2.83L4 21.41c.39.39.9.59 1.41.59.51 0 1.02-.2 1.41-.59l7.78-7.78 2.81-2.81c.8-.78.8-2.07 0-2.86zM5.41 20L4 18.59l7.72-7.72 1.47 1.35L5.41 20z\"/>\n",
              "  </svg>\n",
              "      </button>\n",
              "      \n",
              "  <style>\n",
              "    .colab-df-container {\n",
              "      display:flex;\n",
              "      flex-wrap:wrap;\n",
              "      gap: 12px;\n",
              "    }\n",
              "\n",
              "    .colab-df-convert {\n",
              "      background-color: #E8F0FE;\n",
              "      border: none;\n",
              "      border-radius: 50%;\n",
              "      cursor: pointer;\n",
              "      display: none;\n",
              "      fill: #1967D2;\n",
              "      height: 32px;\n",
              "      padding: 0 0 0 0;\n",
              "      width: 32px;\n",
              "    }\n",
              "\n",
              "    .colab-df-convert:hover {\n",
              "      background-color: #E2EBFA;\n",
              "      box-shadow: 0px 1px 2px rgba(60, 64, 67, 0.3), 0px 1px 3px 1px rgba(60, 64, 67, 0.15);\n",
              "      fill: #174EA6;\n",
              "    }\n",
              "\n",
              "    [theme=dark] .colab-df-convert {\n",
              "      background-color: #3B4455;\n",
              "      fill: #D2E3FC;\n",
              "    }\n",
              "\n",
              "    [theme=dark] .colab-df-convert:hover {\n",
              "      background-color: #434B5C;\n",
              "      box-shadow: 0px 1px 3px 1px rgba(0, 0, 0, 0.15);\n",
              "      filter: drop-shadow(0px 1px 2px rgba(0, 0, 0, 0.3));\n",
              "      fill: #FFFFFF;\n",
              "    }\n",
              "  </style>\n",
              "\n",
              "      <script>\n",
              "        const buttonEl =\n",
              "          document.querySelector('#df-11e30ee3-7162-41c4-9d2a-fce5d302b55b button.colab-df-convert');\n",
              "        buttonEl.style.display =\n",
              "          google.colab.kernel.accessAllowed ? 'block' : 'none';\n",
              "\n",
              "        async function convertToInteractive(key) {\n",
              "          const element = document.querySelector('#df-11e30ee3-7162-41c4-9d2a-fce5d302b55b');\n",
              "          const dataTable =\n",
              "            await google.colab.kernel.invokeFunction('convertToInteractive',\n",
              "                                                     [key], {});\n",
              "          if (!dataTable) return;\n",
              "\n",
              "          const docLinkHtml = 'Like what you see? Visit the ' +\n",
              "            '<a target=\"_blank\" href=https://colab.research.google.com/notebooks/data_table.ipynb>data table notebook</a>'\n",
              "            + ' to learn more about interactive tables.';\n",
              "          element.innerHTML = '';\n",
              "          dataTable['output_type'] = 'display_data';\n",
              "          await google.colab.output.renderOutput(dataTable, element);\n",
              "          const docLink = document.createElement('div');\n",
              "          docLink.innerHTML = docLinkHtml;\n",
              "          element.appendChild(docLink);\n",
              "        }\n",
              "      </script>\n",
              "    </div>\n",
              "  </div>\n",
              "  "
            ],
            "application/vnd.google.colaboratory.module+javascript": "\n      import \"https://ssl.gstatic.com/colaboratory/data_table/81f25a011006ed3d/data_table.js\";\n\n      window.createDataTable({\n        data: [[{\n            'v': 0,\n            'f': \"0\",\n        },\n{\n            'v': 1025.3640406595705,\n            'f': \"1025.3640406595705\",\n        },\n{\n            'v': 186262840.25307757,\n            'f': \"186262840.25307757\",\n        },\n{\n            'v': 0.8624522836978035,\n            'f': \"0.8624522836978035\",\n        },\n{\n            'v': 542.2469652924453,\n            'f': \"542.2469652924453\",\n        },\n{\n            'v': 0.003625355180860046,\n            'f': \"0.003625355180860046\",\n        },\n{\n            'v': 0.0036455296071075116,\n            'f': \"0.0036455296071075116\",\n        }]],\n        columns: [[\"number\", \"index\"], [\"number\", \"mean_absolute_error\"], [\"number\", \"mean_squared_error\"], [\"number\", \"mean_squared_log_error\"], [\"number\", \"median_absolute_error\"], [\"number\", \"r2_score\"], [\"number\", \"explained_variance\"]],\n        columnOptions: [{\"width\": \"1px\", \"className\": \"index_column\"}],\n        rowsPerPage: 25,\n        helpUrl: \"https://colab.research.google.com/notebooks/data_table.ipynb\",\n        suppressOutputScrolling: true,\n        minimumWidth: undefined,\n      });\n    "
          },
          "metadata": {},
          "execution_count": 25
        }
      ]
    },
    {
      "cell_type": "markdown",
      "source": [
        "## Predict"
      ],
      "metadata": {
        "id": "mW_4Vgm0D6Ie"
      }
    },
    {
      "cell_type": "code",
      "source": [
        "#make predictions \n",
        "%%bigquery --project twist-project-343915\n",
        "\n",
        "SELECT \n",
        "*\n",
        "FROM \n",
        "ML.PREDICT (MODEL bike_model.model_bucket,\n",
        "  (\n",
        "  SELECT\n",
        "    start_station_name, \n",
        "    start_date \n",
        "    FROM\n",
        "      `bigquery-public-data.london_bicycles.cycle_hire`\n",
        "  LIMIT\n",
        "    100))  "
      ],
      "metadata": {
        "id": "ZVCso3uGXu7Q",
        "colab": {
          "base_uri": "https://localhost:8080/",
          "height": 638
        },
        "outputId": "11b47602-1129-4df2-b8b3-60e78fd19f4e"
      },
      "execution_count": 28,
      "outputs": [
        {
          "output_type": "execute_result",
          "data": {
            "text/plain": [
              "    predicted_duration                           start_station_name  \\\n",
              "0          1823.906069               Serpentine Car Park, Hyde Park   \n",
              "1          3649.442024                Speakers' Corner 1, Hyde Park   \n",
              "2           878.984631                         Queen Street 2, Bank   \n",
              "3          1926.294259                        Teviot Street, Poplar   \n",
              "4          2555.515019  Wandsworth Rd, Isley Court, Wandsworth Road   \n",
              "..                 ...                                          ...   \n",
              "95         1573.869099                        Whiteley's, Bayswater   \n",
              "96         1033.576282                      Belgrave Road, Victoria   \n",
              "97         1069.852917              Cartwright Gardens , Bloomsbury   \n",
              "98         1350.474924           Warwick Avenue Station, Maida Vale   \n",
              "99         3520.856117          Black Lion Gate, Kensington Gardens   \n",
              "\n",
              "                  start_date  \n",
              "0  2015-09-03 11:52:00+00:00  \n",
              "1  2015-08-16 09:56:00+00:00  \n",
              "2  2017-06-09 17:56:00+00:00  \n",
              "3  2017-04-22 09:36:00+00:00  \n",
              "4  2016-10-09 03:52:00+00:00  \n",
              "..                       ...  \n",
              "95 2016-08-29 19:29:00+00:00  \n",
              "96 2016-03-16 07:45:00+00:00  \n",
              "97 2015-06-10 14:29:00+00:00  \n",
              "98 2015-01-21 05:14:00+00:00  \n",
              "99 2016-07-14 10:58:00+00:00  \n",
              "\n",
              "[100 rows x 3 columns]"
            ],
            "text/html": [
              "\n",
              "  <div id=\"df-a2114997-16b7-49f7-820e-3df1415e8e37\">\n",
              "    <div class=\"colab-df-container\">\n",
              "      <div>\n",
              "<style scoped>\n",
              "    .dataframe tbody tr th:only-of-type {\n",
              "        vertical-align: middle;\n",
              "    }\n",
              "\n",
              "    .dataframe tbody tr th {\n",
              "        vertical-align: top;\n",
              "    }\n",
              "\n",
              "    .dataframe thead th {\n",
              "        text-align: right;\n",
              "    }\n",
              "</style>\n",
              "<table border=\"1\" class=\"dataframe\">\n",
              "  <thead>\n",
              "    <tr style=\"text-align: right;\">\n",
              "      <th></th>\n",
              "      <th>predicted_duration</th>\n",
              "      <th>start_station_name</th>\n",
              "      <th>start_date</th>\n",
              "    </tr>\n",
              "  </thead>\n",
              "  <tbody>\n",
              "    <tr>\n",
              "      <th>0</th>\n",
              "      <td>1823.906069</td>\n",
              "      <td>Serpentine Car Park, Hyde Park</td>\n",
              "      <td>2015-09-03 11:52:00+00:00</td>\n",
              "    </tr>\n",
              "    <tr>\n",
              "      <th>1</th>\n",
              "      <td>3649.442024</td>\n",
              "      <td>Speakers' Corner 1, Hyde Park</td>\n",
              "      <td>2015-08-16 09:56:00+00:00</td>\n",
              "    </tr>\n",
              "    <tr>\n",
              "      <th>2</th>\n",
              "      <td>878.984631</td>\n",
              "      <td>Queen Street 2, Bank</td>\n",
              "      <td>2017-06-09 17:56:00+00:00</td>\n",
              "    </tr>\n",
              "    <tr>\n",
              "      <th>3</th>\n",
              "      <td>1926.294259</td>\n",
              "      <td>Teviot Street, Poplar</td>\n",
              "      <td>2017-04-22 09:36:00+00:00</td>\n",
              "    </tr>\n",
              "    <tr>\n",
              "      <th>4</th>\n",
              "      <td>2555.515019</td>\n",
              "      <td>Wandsworth Rd, Isley Court, Wandsworth Road</td>\n",
              "      <td>2016-10-09 03:52:00+00:00</td>\n",
              "    </tr>\n",
              "    <tr>\n",
              "      <th>...</th>\n",
              "      <td>...</td>\n",
              "      <td>...</td>\n",
              "      <td>...</td>\n",
              "    </tr>\n",
              "    <tr>\n",
              "      <th>95</th>\n",
              "      <td>1573.869099</td>\n",
              "      <td>Whiteley's, Bayswater</td>\n",
              "      <td>2016-08-29 19:29:00+00:00</td>\n",
              "    </tr>\n",
              "    <tr>\n",
              "      <th>96</th>\n",
              "      <td>1033.576282</td>\n",
              "      <td>Belgrave Road, Victoria</td>\n",
              "      <td>2016-03-16 07:45:00+00:00</td>\n",
              "    </tr>\n",
              "    <tr>\n",
              "      <th>97</th>\n",
              "      <td>1069.852917</td>\n",
              "      <td>Cartwright Gardens , Bloomsbury</td>\n",
              "      <td>2015-06-10 14:29:00+00:00</td>\n",
              "    </tr>\n",
              "    <tr>\n",
              "      <th>98</th>\n",
              "      <td>1350.474924</td>\n",
              "      <td>Warwick Avenue Station, Maida Vale</td>\n",
              "      <td>2015-01-21 05:14:00+00:00</td>\n",
              "    </tr>\n",
              "    <tr>\n",
              "      <th>99</th>\n",
              "      <td>3520.856117</td>\n",
              "      <td>Black Lion Gate, Kensington Gardens</td>\n",
              "      <td>2016-07-14 10:58:00+00:00</td>\n",
              "    </tr>\n",
              "  </tbody>\n",
              "</table>\n",
              "<p>100 rows × 3 columns</p>\n",
              "</div>\n",
              "      <button class=\"colab-df-convert\" onclick=\"convertToInteractive('df-a2114997-16b7-49f7-820e-3df1415e8e37')\"\n",
              "              title=\"Convert this dataframe to an interactive table.\"\n",
              "              style=\"display:none;\">\n",
              "        \n",
              "  <svg xmlns=\"http://www.w3.org/2000/svg\" height=\"24px\"viewBox=\"0 0 24 24\"\n",
              "       width=\"24px\">\n",
              "    <path d=\"M0 0h24v24H0V0z\" fill=\"none\"/>\n",
              "    <path d=\"M18.56 5.44l.94 2.06.94-2.06 2.06-.94-2.06-.94-.94-2.06-.94 2.06-2.06.94zm-11 1L8.5 8.5l.94-2.06 2.06-.94-2.06-.94L8.5 2.5l-.94 2.06-2.06.94zm10 10l.94 2.06.94-2.06 2.06-.94-2.06-.94-.94-2.06-.94 2.06-2.06.94z\"/><path d=\"M17.41 7.96l-1.37-1.37c-.4-.4-.92-.59-1.43-.59-.52 0-1.04.2-1.43.59L10.3 9.45l-7.72 7.72c-.78.78-.78 2.05 0 2.83L4 21.41c.39.39.9.59 1.41.59.51 0 1.02-.2 1.41-.59l7.78-7.78 2.81-2.81c.8-.78.8-2.07 0-2.86zM5.41 20L4 18.59l7.72-7.72 1.47 1.35L5.41 20z\"/>\n",
              "  </svg>\n",
              "      </button>\n",
              "      \n",
              "  <style>\n",
              "    .colab-df-container {\n",
              "      display:flex;\n",
              "      flex-wrap:wrap;\n",
              "      gap: 12px;\n",
              "    }\n",
              "\n",
              "    .colab-df-convert {\n",
              "      background-color: #E8F0FE;\n",
              "      border: none;\n",
              "      border-radius: 50%;\n",
              "      cursor: pointer;\n",
              "      display: none;\n",
              "      fill: #1967D2;\n",
              "      height: 32px;\n",
              "      padding: 0 0 0 0;\n",
              "      width: 32px;\n",
              "    }\n",
              "\n",
              "    .colab-df-convert:hover {\n",
              "      background-color: #E2EBFA;\n",
              "      box-shadow: 0px 1px 2px rgba(60, 64, 67, 0.3), 0px 1px 3px 1px rgba(60, 64, 67, 0.15);\n",
              "      fill: #174EA6;\n",
              "    }\n",
              "\n",
              "    [theme=dark] .colab-df-convert {\n",
              "      background-color: #3B4455;\n",
              "      fill: #D2E3FC;\n",
              "    }\n",
              "\n",
              "    [theme=dark] .colab-df-convert:hover {\n",
              "      background-color: #434B5C;\n",
              "      box-shadow: 0px 1px 3px 1px rgba(0, 0, 0, 0.15);\n",
              "      filter: drop-shadow(0px 1px 2px rgba(0, 0, 0, 0.3));\n",
              "      fill: #FFFFFF;\n",
              "    }\n",
              "  </style>\n",
              "\n",
              "      <script>\n",
              "        const buttonEl =\n",
              "          document.querySelector('#df-a2114997-16b7-49f7-820e-3df1415e8e37 button.colab-df-convert');\n",
              "        buttonEl.style.display =\n",
              "          google.colab.kernel.accessAllowed ? 'block' : 'none';\n",
              "\n",
              "        async function convertToInteractive(key) {\n",
              "          const element = document.querySelector('#df-a2114997-16b7-49f7-820e-3df1415e8e37');\n",
              "          const dataTable =\n",
              "            await google.colab.kernel.invokeFunction('convertToInteractive',\n",
              "                                                     [key], {});\n",
              "          if (!dataTable) return;\n",
              "\n",
              "          const docLinkHtml = 'Like what you see? Visit the ' +\n",
              "            '<a target=\"_blank\" href=https://colab.research.google.com/notebooks/data_table.ipynb>data table notebook</a>'\n",
              "            + ' to learn more about interactive tables.';\n",
              "          element.innerHTML = '';\n",
              "          dataTable['output_type'] = 'display_data';\n",
              "          await google.colab.output.renderOutput(dataTable, element);\n",
              "          const docLink = document.createElement('div');\n",
              "          docLink.innerHTML = docLinkHtml;\n",
              "          element.appendChild(docLink);\n",
              "        }\n",
              "      </script>\n",
              "    </div>\n",
              "  </div>\n",
              "  "
            ],
            "application/vnd.google.colaboratory.module+javascript": "\n      import \"https://ssl.gstatic.com/colaboratory/data_table/81f25a011006ed3d/data_table.js\";\n\n      window.createDataTable({\n        data: [[{\n            'v': 0,\n            'f': \"0\",\n        },\n{\n            'v': 1823.906069477899,\n            'f': \"1823.906069477899\",\n        },\n\"Serpentine Car Park, Hyde Park\",\n\"2015-09-03 11:52:00+00:00\"],\n [{\n            'v': 1,\n            'f': \"1\",\n        },\n{\n            'v': 3649.4420242802075,\n            'f': \"3649.4420242802075\",\n        },\n\"Speakers' Corner 1, Hyde Park\",\n\"2015-08-16 09:56:00+00:00\"],\n [{\n            'v': 2,\n            'f': \"2\",\n        },\n{\n            'v': 878.9846305596061,\n            'f': \"878.9846305596061\",\n        },\n\"Queen Street 2, Bank\",\n\"2017-06-09 17:56:00+00:00\"],\n [{\n            'v': 3,\n            'f': \"3\",\n        },\n{\n            'v': 1926.2942591303354,\n            'f': \"1926.2942591303354\",\n        },\n\"Teviot Street, Poplar\",\n\"2017-04-22 09:36:00+00:00\"],\n [{\n            'v': 4,\n            'f': \"4\",\n        },\n{\n            'v': 2555.5150194172097,\n            'f': \"2555.5150194172097\",\n        },\n\"Wandsworth Rd, Isley Court, Wandsworth Road\",\n\"2016-10-09 03:52:00+00:00\"],\n [{\n            'v': 5,\n            'f': \"5\",\n        },\n{\n            'v': 1630.493998907055,\n            'f': \"1630.493998907055\",\n        },\n\"Gunmakers Lane, Old Ford\",\n\"2016-06-26 06:50:00+00:00\"],\n [{\n            'v': 6,\n            'f': \"6\",\n        },\n{\n            'v': 1044.5797069634632,\n            'f': \"1044.5797069634632\",\n        },\n\"Wright's Lane, Kensington\",\n\"2015-04-27 21:20:00+00:00\"],\n [{\n            'v': 7,\n            'f': \"7\",\n        },\n{\n            'v': 1602.4039573662026,\n            'f': \"1602.4039573662026\",\n        },\n\"Somerset House, Strand\",\n\"2016-12-15 20:43:00+00:00\"],\n [{\n            'v': 8,\n            'f': \"8\",\n        },\n{\n            'v': 2513.298763176038,\n            'f': \"2513.298763176038\",\n        },\n\"Triangle Car Park, Hyde Park\",\n\"2015-08-22 16:35:00+00:00\"],\n [{\n            'v': 9,\n            'f': \"9\",\n        },\n{\n            'v': 2514.690330067553,\n            'f': \"2514.690330067553\",\n        },\n\"Aquatic Centre, Queen Elizabeth Olympic Park\",\n\"2016-05-23 21:13:00+00:00\"],\n [{\n            'v': 10,\n            'f': \"10\",\n        },\n{\n            'v': 1703.581360074023,\n            'f': \"1703.581360074023\",\n        },\n\"Farm Street, Mayfair\",\n\"2016-04-03 14:50:00+00:00\"],\n [{\n            'v': 11,\n            'f': \"11\",\n        },\n{\n            'v': 1023.9377534092769,\n            'f': \"1023.9377534092769\",\n        },\n\"Wood Street, Guildhall\",\n\"2015-10-27 13:56:00+00:00\"],\n [{\n            'v': 12,\n            'f': \"12\",\n        },\n{\n            'v': 1561.9713569140945,\n            'f': \"1561.9713569140945\",\n        },\n\"Southwark Station 2, Southwark\",\n\"2015-12-12 12:29:00+00:00\"],\n [{\n            'v': 13,\n            'f': \"13\",\n        },\n{\n            'v': 1258.7545199479914,\n            'f': \"1258.7545199479914\",\n        },\n\"Broadwick Street, Soho\",\n\"2016-08-25 16:04:00+00:00\"],\n [{\n            'v': 14,\n            'f': \"14\",\n        },\n{\n            'v': 2514.690330067553,\n            'f': \"2514.690330067553\",\n        },\n\"Aquatic Centre, Queen Elizabeth Olympic Park\",\n\"2016-08-18 18:03:00+00:00\"],\n [{\n            'v': 15,\n            'f': \"15\",\n        },\n{\n            'v': 2390.3114164120707,\n            'f': \"2390.3114164120707\",\n        },\n\"Park Lane , Hyde Park\",\n\"2017-03-27 17:14:00+00:00\"],\n [{\n            'v': 16,\n            'f': \"16\",\n        },\n{\n            'v': 1875.5954816624076,\n            'f': \"1875.5954816624076\",\n        },\n\"Abbotsbury Road, Holland Park\",\n\"2016-07-17 15:12:00+00:00\"],\n [{\n            'v': 17,\n            'f': \"17\",\n        },\n{\n            'v': 2431.020188564749,\n            'f': \"2431.020188564749\",\n        },\n\"Bromley High Street, Bow\",\n\"2015-05-16 23:47:00+00:00\"],\n [{\n            'v': 18,\n            'f': \"18\",\n        },\n{\n            'v': 1412.0843541847562,\n            'f': \"1412.0843541847562\",\n        },\n\"Tower Gardens , Tower\",\n\"2017-04-12 18:43:00+00:00\"],\n [{\n            'v': 19,\n            'f': \"19\",\n        },\n{\n            'v': 1901.8410075106412,\n            'f': \"1901.8410075106412\",\n        },\n\"Claverton Street, Pimlico\",\n\"2016-10-23 14:22:00+00:00\"],\n [{\n            'v': 20,\n            'f': \"20\",\n        },\n{\n            'v': 2177.409810428607,\n            'f': \"2177.409810428607\",\n        },\n\"Waterloo Place, St. James's\",\n\"2015-06-27 18:58:00+00:00\"],\n [{\n            'v': 21,\n            'f': \"21\",\n        },\n{\n            'v': 2013.3521211884101,\n            'f': \"2013.3521211884101\",\n        },\n\"Upper Richmond Road, Putney\",\n\"2015-07-09 07:33:00+00:00\"],\n [{\n            'v': 22,\n            'f': \"22\",\n        },\n{\n            'v': 1389.0752269454756,\n            'f': \"1389.0752269454756\",\n        },\n\"St. John's Road, Clapham Junction\",\n\"2017-02-10 09:20:00+00:00\"],\n [{\n            'v': 23,\n            'f': \"23\",\n        },\n{\n            'v': 1306.8265267600518,\n            'f': \"1306.8265267600518\",\n        },\n\"New Kent Road, Borough\",\n\"2015-04-17 13:51:00+00:00\"],\n [{\n            'v': 24,\n            'f': \"24\",\n        },\n{\n            'v': 1595.709229803604,\n            'f': \"1595.709229803604\",\n        },\n\"Handyside Street, King's Cross\",\n\"2017-06-11 11:10:00+00:00\"],\n [{\n            'v': 25,\n            'f': \"25\",\n        },\n{\n            'v': 1373.903199186239,\n            'f': \"1373.903199186239\",\n        },\n\"Prince Albert Road, The Regent's Park\",\n\"2015-06-30 17:29:00+00:00\"],\n [{\n            'v': 26,\n            'f': \"26\",\n        },\n{\n            'v': 1557.453330397616,\n            'f': \"1557.453330397616\",\n        },\n\"Tower Gardens , Tower\",\n\"2017-03-11 09:16:00+00:00\"],\n [{\n            'v': 27,\n            'f': \"27\",\n        },\n{\n            'v': 1310.2099390500393,\n            'f': \"1310.2099390500393\",\n        },\n\"North Audley Street, Mayfair\",\n\"2015-12-29 13:11:00+00:00\"],\n [{\n            'v': 28,\n            'f': \"28\",\n        },\n{\n            'v': 2198.8564280437477,\n            'f': \"2198.8564280437477\",\n        },\n\"Serpentine Car Park, Hyde Park\",\n\"2015-07-19 16:09:00+00:00\"],\n [{\n            'v': 29,\n            'f': \"29\",\n        },\n{\n            'v': 2086.6541399005714,\n            'f': \"2086.6541399005714\",\n        },\n\"Frampton Street, Paddington\",\n\"2016-02-13 11:35:00+00:00\"],\n [{\n            'v': 30,\n            'f': \"30\",\n        },\n{\n            'v': 2513.298763176038,\n            'f': \"2513.298763176038\",\n        },\n\"Triangle Car Park, Hyde Park\",\n\"2016-12-10 14:22:00+00:00\"],\n [{\n            'v': 31,\n            'f': \"31\",\n        },\n{\n            'v': 1697.387582800572,\n            'f': \"1697.387582800572\",\n        },\n\"Green Park Station, Mayfair\",\n\"2016-08-12 18:40:00+00:00\"],\n [{\n            'v': 32,\n            'f': \"32\",\n        },\n{\n            'v': 1803.4722909076754,\n            'f': \"1803.4722909076754\",\n        },\n\"London Zoo,  The Regent's Park\",\n\"2015-09-29 16:08:00+00:00\"],\n [{\n            'v': 33,\n            'f': \"33\",\n        },\n{\n            'v': 1972.5332029507126,\n            'f': \"1972.5332029507126\",\n        },\n\"Queen's Gate, Kensington Gardens\",\n\"2015-08-06 19:51:00+00:00\"],\n [{\n            'v': 34,\n            'f': \"34\",\n        },\n{\n            'v': 1175.2773963388931,\n            'f': \"1175.2773963388931\",\n        },\n\"Porchester Place, Paddington\",\n\"2016-10-05 19:12:00+00:00\"],\n [{\n            'v': 35,\n            'f': \"35\",\n        },\n{\n            'v': 2390.3114164120707,\n            'f': \"2390.3114164120707\",\n        },\n\"Park Lane , Hyde Park\",\n\"2016-08-10 18:53:00+00:00\"],\n [{\n            'v': 36,\n            'f': \"36\",\n        },\n{\n            'v': 1619.1287224634875,\n            'f': \"1619.1287224634875\",\n        },\n\"Newby Place, Poplar\",\n\"2015-05-22 15:46:00+00:00\"],\n [{\n            'v': 37,\n            'f': \"37\",\n        },\n{\n            'v': 1117.7645963035625,\n            'f': \"1117.7645963035625\",\n        },\n\"William IV Street, Strand\",\n\"2016-07-19 20:54:00+00:00\"],\n [{\n            'v': 38,\n            'f': \"38\",\n        },\n{\n            'v': 1449.5915668696553,\n            'f': \"1449.5915668696553\",\n        },\n\"Elizabeth Bridge, Victoria\",\n\"2016-09-28 11:19:00+00:00\"],\n [{\n            'v': 39,\n            'f': \"39\",\n        },\n{\n            'v': 1512.7190962682653,\n            'f': \"1512.7190962682653\",\n        },\n\"Bramham Gardens, Earl's Court\",\n\"2016-07-24 17:14:00+00:00\"],\n [{\n            'v': 40,\n            'f': \"40\",\n        },\n{\n            'v': 1372.0160429213033,\n            'f': \"1372.0160429213033\",\n        },\n\"Fournier Street, Whitechapel\",\n\"2017-03-11 17:50:00+00:00\"],\n [{\n            'v': 41,\n            'f': \"41\",\n        },\n{\n            'v': 1913.4381823728058,\n            'f': \"1913.4381823728058\",\n        },\n\"Park Road (Baker Street), The Regent's Park\",\n\"2015-07-25 16:26:00+00:00\"],\n [{\n            'v': 42,\n            'f': \"42\",\n        },\n{\n            'v': 1758.3975128661023,\n            'f': \"1758.3975128661023\",\n        },\n\"Seville Street, Knightsbridge\",\n\"2016-08-29 14:21:00+00:00\"],\n [{\n            'v': 43,\n            'f': \"43\",\n        },\n{\n            'v': 1420.1275552987904,\n            'f': \"1420.1275552987904\",\n        },\n\"Eaton Square, Belgravia\",\n\"2016-08-10 14:06:00+00:00\"],\n [{\n            'v': 44,\n            'f': \"44\",\n        },\n{\n            'v': 1299.9942984029708,\n            'f': \"1299.9942984029708\",\n        },\n\"Little Argyll Street, West End\",\n\"2017-05-22 17:05:00+00:00\"],\n [{\n            'v': 45,\n            'f': \"45\",\n        },\n{\n            'v': 2329.324549205652,\n            'f': \"2329.324549205652\",\n        },\n\"Knightsbridge, Hyde Park\",\n\"2016-03-21 14:18:00+00:00\"],\n [{\n            'v': 46,\n            'f': \"46\",\n        },\n{\n            'v': 1748.1782716974826,\n            'f': \"1748.1782716974826\",\n        },\n\"Belford House, Haggerston\",\n\"2016-06-11 10:44:00+00:00\"],\n [{\n            'v': 47,\n            'f': \"47\",\n        },\n{\n            'v': 1996.6517109651716,\n            'f': \"1996.6517109651716\",\n        },\n\"Leonard Circus , Shoreditch\",\n\"2017-05-06 00:07:00+00:00\"],\n [{\n            'v': 48,\n            'f': \"48\",\n        },\n{\n            'v': 2650.434713083503,\n            'f': \"2650.434713083503\",\n        },\n\"Aquatic Centre, Queen Elizabeth Olympic Park\",\n\"2016-02-17 13:22:00+00:00\"],\n [{\n            'v': 49,\n            'f': \"49\",\n        },\n{\n            'v': 1546.8844014779693,\n            'f': \"1546.8844014779693\",\n        },\n\"Richmond Way, Shepherd's Bush\",\n\"2017-03-04 21:26:00+00:00\"],\n [{\n            'v': 50,\n            'f': \"50\",\n        },\n{\n            'v': 888.162919135415,\n            'f': \"888.162919135415\",\n        },\n\"Leonard Circus , Shoreditch\",\n\"2015-06-10 17:20:00+00:00\"],\n [{\n            'v': 51,\n            'f': \"51\",\n        },\n{\n            'v': 1473.0264838718253,\n            'f': \"1473.0264838718253\",\n        },\n\"Vauxhall Cross, Vauxhall\",\n\"2016-12-31 13:43:00+00:00\"],\n [{\n            'v': 52,\n            'f': \"52\",\n        },\n{\n            'v': 1921.769990346993,\n            'f': \"1921.769990346993\",\n        },\n\"Harrowby Street, Marylebone\",\n\"2015-10-30 01:20:00+00:00\"],\n [{\n            'v': 53,\n            'f': \"53\",\n        },\n{\n            'v': 1014.7290135755557,\n            'f': \"1014.7290135755557\",\n        },\n\"Queen Street 2, Bank\",\n\"2015-08-18 16:24:00+00:00\"],\n [{\n            'v': 54,\n            'f': \"54\",\n        },\n{\n            'v': 1067.0920324368158,\n            'f': \"1067.0920324368158\",\n        },\n\"Shoreditch High Street, Shoreditch\",\n\"2016-09-29 23:29:00+00:00\"],\n [{\n            'v': 55,\n            'f': \"55\",\n        },\n{\n            'v': 1895.30756661966,\n            'f': \"1895.30756661966\",\n        },\n\"Austin Road, Battersea Park\",\n\"2017-04-30 15:44:00+00:00\"],\n [{\n            'v': 56,\n            'f': \"56\",\n        },\n{\n            'v': 3066.6552462896957,\n            'f': \"3066.6552462896957\",\n        },\n\"Hyde Park Corner, Hyde Park\",\n\"2016-10-23 10:00:00+00:00\"],\n [{\n            'v': 57,\n            'f': \"57\",\n        },\n{\n            'v': 1188.2315570830851,\n            'f': \"1188.2315570830851\",\n        },\n\"Harrowby Street, Marylebone\",\n\"2017-04-03 21:47:00+00:00\"],\n [{\n            'v': 58,\n            'f': \"58\",\n        },\n{\n            'v': 1139.7080194785713,\n            'f': \"1139.7080194785713\",\n        },\n\"Bolsover Street, Fitzrovia\",\n\"2017-05-02 13:38:00+00:00\"],\n [{\n            'v': 59,\n            'f': \"59\",\n        },\n{\n            'v': 805.9930034188801,\n            'f': \"805.9930034188801\",\n        },\n\"Canton Street, Poplar\",\n\"2017-06-02 08:42:00+00:00\"],\n [{\n            'v': 60,\n            'f': \"60\",\n        },\n{\n            'v': 1786.758244127352,\n            'f': \"1786.758244127352\",\n        },\n\"Goldsmith's Row, Haggerston\",\n\"2016-08-21 15:53:00+00:00\"],\n [{\n            'v': 61,\n            'f': \"61\",\n        },\n{\n            'v': 2061.092629672142,\n            'f': \"2061.092629672142\",\n        },\n\"Finsbury Circus, Liverpool Street\",\n\"2017-06-03 01:50:00+00:00\"],\n [{\n            'v': 62,\n            'f': \"62\",\n        },\n{\n            'v': 1550.3008414790274,\n            'f': \"1550.3008414790274\",\n        },\n\"Paddington Green Police Station, Paddington\",\n\"2016-07-13 19:34:00+00:00\"],\n [{\n            'v': 63,\n            'f': \"63\",\n        },\n{\n            'v': 889.8496388600834,\n            'f': \"889.8496388600834\",\n        },\n\"Tyers Gate, Bermondsey\",\n\"2015-07-09 08:09:00+00:00\"],\n [{\n            'v': 64,\n            'f': \"64\",\n        },\n{\n            'v': 1596.9821684351432,\n            'f': \"1596.9821684351432\",\n        },\n\"Fulham Broadway, Walham Green\",\n\"2016-09-17 13:18:00+00:00\"],\n [{\n            'v': 65,\n            'f': \"65\",\n        },\n{\n            'v': 2126.019515340108,\n            'f': \"2126.019515340108\",\n        },\n\"Dock Street, Wapping\",\n\"2016-07-30 00:40:00+00:00\"],\n [{\n            'v': 66,\n            'f': \"66\",\n        },\n{\n            'v': 1741.0550333527344,\n            'f': \"1741.0550333527344\",\n        },\n\"The Tennis Courts, The Regent's Park\",\n\"2015-08-06 14:15:00+00:00\"],\n [{\n            'v': 67,\n            'f': \"67\",\n        },\n{\n            'v': 2069.624088036531,\n            'f': \"2069.624088036531\",\n        },\n\"Usk Road, Battersea\",\n\"2015-03-21 12:14:00+00:00\"],\n [{\n            'v': 68,\n            'f': \"68\",\n        },\n{\n            'v': 1387.9090712694506,\n            'f': \"1387.9090712694506\",\n        },\n\"Tanner Street, Bermondsey\",\n\"2016-07-19 11:44:00+00:00\"],\n [{\n            'v': 69,\n            'f': \"69\",\n        },\n{\n            'v': 2011.42770049704,\n            'f': \"2011.42770049704\",\n        },\n\"Arlington Road, Camden Town\",\n\"2017-02-19 12:27:00+00:00\"],\n [{\n            'v': 70,\n            'f': \"70\",\n        },\n{\n            'v': 1645.049149338312,\n            'f': \"1645.049149338312\",\n        },\n\"Wendon Street, Old Ford\",\n\"2016-08-14 08:47:00+00:00\"],\n [{\n            'v': 71,\n            'f': \"71\",\n        },\n{\n            'v': 1494.8452526557107,\n            'f': \"1494.8452526557107\",\n        },\n\"Embankment (Savoy), Strand\",\n\"2016-07-27 18:35:00+00:00\"],\n [{\n            'v': 72,\n            'f': \"72\",\n        },\n{\n            'v': 818.5696746166927,\n            'f': \"818.5696746166927\",\n        },\n\"Clerkenwell Green, Clerkenwell\",\n\"2015-01-26 20:31:00+00:00\"],\n [{\n            'v': 73,\n            'f': \"73\",\n        },\n{\n            'v': 1315.128557006276,\n            'f': \"1315.128557006276\",\n        },\n\"Westminster Bridge Road, Elephant & Castle\",\n\"2016-10-11 10:03:00+00:00\"],\n [{\n            'v': 74,\n            'f': \"74\",\n        },\n{\n            'v': 2377.5543801600884,\n            'f': \"2377.5543801600884\",\n        },\n\"Triangle Car Park, Hyde Park\",\n\"2016-06-04 19:53:00+00:00\"],\n [{\n            'v': 75,\n            'f': \"75\",\n        },\n{\n            'v': 1008.5911671403046,\n            'f': \"1008.5911671403046\",\n        },\n\"Eagle Wharf Road, Hoxton\",\n\"2017-03-03 12:03:00+00:00\"],\n [{\n            'v': 76,\n            'f': \"76\",\n        },\n{\n            'v': 1402.7434407910077,\n            'f': \"1402.7434407910077\",\n        },\n\"Park Road (Baker Street), The Regent's Park\",\n\"2016-09-13 20:07:00+00:00\"],\n [{\n            'v': 77,\n            'f': \"77\",\n        },\n{\n            'v': 1263.9289143668466,\n            'f': \"1263.9289143668466\",\n        },\n\"Rainville Road, Hammersmith\",\n\"2015-04-06 14:42:00+00:00\"],\n [{\n            'v': 78,\n            'f': \"78\",\n        },\n{\n            'v': 2039.3002582716938,\n            'f': \"2039.3002582716938\",\n        },\n\"Storey's Gate, Westminster\",\n\"2015-09-20 15:37:00+00:00\"],\n [{\n            'v': 79,\n            'f': \"79\",\n        },\n{\n            'v': 1641.9278487949632,\n            'f': \"1641.9278487949632\",\n        },\n\"Bishop's Bridge Road West, Bayswater\",\n\"2017-02-05 15:35:00+00:00\"],\n [{\n            'v': 80,\n            'f': \"80\",\n        },\n{\n            'v': 1358.912659286847,\n            'f': \"1358.912659286847\",\n        },\n\"Beaumont Street, Marylebone\",\n\"2015-08-30 18:22:00+00:00\"],\n [{\n            'v': 81,\n            'f': \"81\",\n        },\n{\n            'v': 911.3777376745929,\n            'f': \"911.3777376745929\",\n        },\n\"Flood Street, Chelsea\",\n\"2016-01-18 18:51:00+00:00\"],\n [{\n            'v': 82,\n            'f': \"82\",\n        },\n{\n            'v': 1168.188639699616,\n            'f': \"1168.188639699616\",\n        },\n\"De Vere Gardens, Kensington\",\n\"2016-08-17 09:26:00+00:00\"],\n [{\n            'v': 83,\n            'f': \"83\",\n        },\n{\n            'v': 2642.427313701529,\n            'f': \"2642.427313701529\",\n        },\n\"Albert Gate, Hyde Park\",\n\"2015-08-01 15:17:00+00:00\"],\n [{\n            'v': 84,\n            'f': \"84\",\n        },\n{\n            'v': 1355.4498078301722,\n            'f': \"1355.4498078301722\",\n        },\n\"Exhibition Road, Knightsbridge\",\n\"2015-12-30 11:26:00+00:00\"],\n [{\n            'v': 85,\n            'f': \"85\",\n        },\n{\n            'v': 2691.7048877238467,\n            'f': \"2691.7048877238467\",\n        },\n\"Hyde Park Corner, Hyde Park\",\n\"2016-09-15 16:05:00+00:00\"],\n [{\n            'v': 86,\n            'f': \"86\",\n        },\n{\n            'v': 805.0828051773183,\n            'f': \"805.0828051773183\",\n        },\n\"Roscoe Street, St. Luke's\",\n\"2016-07-20 19:44:00+00:00\"],\n [{\n            'v': 87,\n            'f': \"87\",\n        },\n{\n            'v': 3790.6324465685175,\n            'f': \"3790.6324465685175\",\n        },\n\"Speakers' Corner 2, Hyde Park\",\n\"2015-04-09 18:34:00+00:00\"],\n [{\n            'v': 88,\n            'f': \"88\",\n        },\n{\n            'v': 1307.6392219370719,\n            'f': \"1307.6392219370719\",\n        },\n\"Boston Place, Marylebone\",\n\"2015-08-06 14:02:00+00:00\"],\n [{\n            'v': 89,\n            'f': \"89\",\n        },\n{\n            'v': 3520.856116798914,\n            'f': \"3520.856116798914\",\n        },\n\"Black Lion Gate, Kensington Gardens\",\n\"2016-10-31 10:52:00+00:00\"],\n [{\n            'v': 90,\n            'f': \"90\",\n        },\n{\n            'v': 1319.7644421635046,\n            'f': \"1319.7644421635046\",\n        },\n\"Cadogan Gardens, Chelsea\",\n\"2016-04-09 18:32:00+00:00\"],\n [{\n            'v': 91,\n            'f': \"91\",\n        },\n{\n            'v': 1730.1353742412393,\n            'f': \"1730.1353742412393\",\n        },\n\"Great Marlborough Street, Soho\",\n\"2016-03-13 13:43:00+00:00\"],\n [{\n            'v': 92,\n            'f': \"92\",\n        },\n{\n            'v': 2138.3484046101894,\n            'f': \"2138.3484046101894\",\n        },\n\"Triangle Car Park, Hyde Park\",\n\"2015-06-18 11:17:00+00:00\"],\n [{\n            'v': 93,\n            'f': \"93\",\n        },\n{\n            'v': 2526.05579942802,\n            'f': \"2526.05579942802\",\n        },\n\"Park Lane , Hyde Park\",\n\"2017-03-17 15:47:00+00:00\"],\n [{\n            'v': 94,\n            'f': \"94\",\n        },\n{\n            'v': 1202.8364154527653,\n            'f': \"1202.8364154527653\",\n        },\n\"Shoreditch High Street, Shoreditch\",\n\"2016-05-02 13:16:00+00:00\"],\n [{\n            'v': 95,\n            'f': \"95\",\n        },\n{\n            'v': 1573.869098605533,\n            'f': \"1573.869098605533\",\n        },\n\"Whiteley's, Bayswater\",\n\"2016-08-29 19:29:00+00:00\"],\n [{\n            'v': 96,\n            'f': \"96\",\n        },\n{\n            'v': 1033.5762815730086,\n            'f': \"1033.5762815730086\",\n        },\n\"Belgrave Road, Victoria\",\n\"2016-03-16 07:45:00+00:00\"],\n [{\n            'v': 97,\n            'f': \"97\",\n        },\n{\n            'v': 1069.852916507799,\n            'f': \"1069.852916507799\",\n        },\n\"Cartwright Gardens , Bloomsbury\",\n\"2015-06-10 14:29:00+00:00\"],\n [{\n            'v': 98,\n            'f': \"98\",\n        },\n{\n            'v': 1350.4749235788581,\n            'f': \"1350.4749235788581\",\n        },\n\"Warwick Avenue Station, Maida Vale\",\n\"2015-01-21 05:14:00+00:00\"],\n [{\n            'v': 99,\n            'f': \"99\",\n        },\n{\n            'v': 3520.856116798914,\n            'f': \"3520.856116798914\",\n        },\n\"Black Lion Gate, Kensington Gardens\",\n\"2016-07-14 10:58:00+00:00\"]],\n        columns: [[\"number\", \"index\"], [\"number\", \"predicted_duration\"], [\"string\", \"start_station_name\"], [\"string\", \"start_date\"]],\n        columnOptions: [{\"width\": \"1px\", \"className\": \"index_column\"}],\n        rowsPerPage: 25,\n        helpUrl: \"https://colab.research.google.com/notebooks/data_table.ipynb\",\n        suppressOutputScrolling: true,\n        minimumWidth: undefined,\n      });\n    "
          },
          "metadata": {},
          "execution_count": 28
        }
      ]
    },
    {
      "cell_type": "code",
      "source": [
        ""
      ],
      "metadata": {
        "id": "83_U_SNjXuxO"
      },
      "execution_count": null,
      "outputs": []
    }
  ]
}